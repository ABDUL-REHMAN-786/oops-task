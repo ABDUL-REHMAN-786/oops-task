{
  "nbformat": 4,
  "nbformat_minor": 0,
  "metadata": {
    "colab": {
      "provenance": [],
      "authorship_tag": "ABX9TyMi6W2+3BDXaN9Ics3HaFtj",
      "include_colab_link": true
    },
    "kernelspec": {
      "name": "python3",
      "display_name": "Python 3"
    },
    "language_info": {
      "name": "python"
    }
  },
  "cells": [
    {
      "cell_type": "markdown",
      "metadata": {
        "id": "view-in-github",
        "colab_type": "text"
      },
      "source": [
        "<a href=\"https://colab.research.google.com/github/ABDUL-REHMAN-786/oops-task/blob/main/Task_2.ipynb\" target=\"_parent\"><img src=\"https://colab.research.google.com/assets/colab-badge.svg\" alt=\"Open In Colab\"/></a>"
      ]
    },
    {
      "cell_type": "markdown",
      "source": [
        "# **Understanding and Implementing Methods & self in Python Classes**\n",
        "\n",
        "# 🔹 1. What are Instance Methods in a Class?\n",
        "➤ Definition:\n",
        "An instance method is a function defined inside a class that operates on an instance (object) of the class.\n",
        "\n",
        "➤ Key Points:\n",
        "Instance methods take self as the first parameter, which refers to the specific object that called the method.\n",
        "\n",
        "They can access or modify instance variables (object attributes).\n",
        "\n",
        "➤ Example:"
      ],
      "metadata": {
        "id": "ym3EEq3BhXAS"
      }
    },
    {
      "cell_type": "code",
      "source": [
        "class Student:\n",
        "    def greet(self):  # This is an instance method\n",
        "        print(\"Hello! I am a student.\")\n",
        "\n",
        "s1 = Student()\n",
        "s1.greet()  # Output: Hello! I am a student."
      ],
      "metadata": {
        "colab": {
          "base_uri": "https://localhost:8080/"
        },
        "id": "LyO5_m2_hbR5",
        "outputId": "7b346a56-cf93-4374-cb4f-08d54b829640"
      },
      "execution_count": 1,
      "outputs": [
        {
          "output_type": "stream",
          "name": "stdout",
          "text": [
            "Hello! I am a student.\n"
          ]
        }
      ]
    },
    {
      "cell_type": "markdown",
      "source": [
        "# **🔹 2. What is self and How Does it Refer to the Current Object?**\n",
        "➤ Definition:\n",
        "self is a reference to the current object (the one that called the method).\n",
        "\n",
        "It is how you access data and methods within the same object.\n",
        "\n",
        "➤ Why is it needed?\n",
        "Without self, the method would not know which object’s data to work with.\n",
        "\n",
        "➤ Example with attributes:"
      ],
      "metadata": {
        "id": "Anu-V8K_hqFM"
      }
    },
    {
      "cell_type": "code",
      "source": [
        "class Student:\n",
        "    def set_name(self, name):\n",
        "        self.name = name  # self.name is the attribute of the object\n",
        "\n",
        "    def show_name(self):\n",
        "        print(\"Name:\", self.name)\n",
        "\n",
        "s1 = Student()\n",
        "s1.set_name(\"Alice\")\n",
        "s1.show_name()  # Output: Name: Alice\n",
        "\n",
        "# 🔎 Here, self.name refers to the name inside the object s1."
      ],
      "metadata": {
        "colab": {
          "base_uri": "https://localhost:8080/"
        },
        "id": "A8GdA2HUh2Q3",
        "outputId": "83f19e1f-602b-4f5f-9e89-1008084ba0b8"
      },
      "execution_count": 2,
      "outputs": [
        {
          "output_type": "stream",
          "name": "stdout",
          "text": [
            "Name: Alice\n"
          ]
        }
      ]
    },
    {
      "cell_type": "markdown",
      "source": [
        "\n",
        "# 🔹 3. How are Multiple Methods Used in One Class?\n",
        "➤ Key Point:\n",
        "You can define as many methods as needed inside one class.\n",
        "\n",
        "They all can use self to share data within the object.\n",
        "\n",
        "➤ Example:"
      ],
      "metadata": {
        "id": "xpgBgl6Gh_aj"
      }
    },
    {
      "cell_type": "code",
      "source": [
        "class Calculator:\n",
        "    def set_values(self, a, b):\n",
        "        self.a = a\n",
        "        self.b = b\n",
        "\n",
        "    def add(self):\n",
        "        return self.a + self.b\n",
        "\n",
        "    def multiply(self):\n",
        "        return self.a * self.b\n",
        "\n",
        "calc = Calculator()\n",
        "calc.set_values(3, 4)\n",
        "print(calc.add())       # Output: 7\n",
        "print(calc.multiply())  # Output: 12\n",
        "\n",
        "#🧠 These methods work together on the same data (a and b) stored inside the object."
      ],
      "metadata": {
        "colab": {
          "base_uri": "https://localhost:8080/"
        },
        "id": "emufPKx4iGYy",
        "outputId": "f20110d2-0e1a-4113-c3e0-f99031f37e65"
      },
      "execution_count": 3,
      "outputs": [
        {
          "output_type": "stream",
          "name": "stdout",
          "text": [
            "7\n",
            "12\n"
          ]
        }
      ]
    },
    {
      "cell_type": "markdown",
      "source": [
        "# 🔹 4. How Can One Method Call Another Within the Same Class?\n",
        "➤ Method-to-method call:\n",
        "Use self.method_name() to call another method of the same object.\n",
        "\n",
        "➤ Why do this?\n",
        "Helps reuse code inside the class.\n",
        "\n",
        "Keeps your code modular and clean.\n",
        "\n",
        "➤ Example:"
      ],
      "metadata": {
        "id": "Tv1lemWmiMnk"
      }
    },
    {
      "cell_type": "code",
      "source": [
        "class Person:\n",
        "    def set_details(self, name, age):\n",
        "        self.name = name\n",
        "        self.age = age\n",
        "\n",
        "    def display(self):\n",
        "        print(f\"Name: {self.name}, Age: {self.age}\")\n",
        "\n",
        "    def show_info(self):\n",
        "        print(\"Calling display from show_info...\")\n",
        "        self.display()  # Calling another method\n",
        "\n",
        "p = Person()\n",
        "p.set_details(\"John\", 25)\n",
        "p.show_info()\n",
        "# Output:\n",
        "# Calling display from show_info...\n",
        "# Name: John, Age: 25\n",
        "\n",
        "# 🔁 self.display() means “call the display method of this same object.”"
      ],
      "metadata": {
        "colab": {
          "base_uri": "https://localhost:8080/"
        },
        "id": "vnOpFC4PiSyj",
        "outputId": "7c3652c4-ee72-409b-dd36-4d80be8547ab"
      },
      "execution_count": 4,
      "outputs": [
        {
          "output_type": "stream",
          "name": "stdout",
          "text": [
            "Calling display from show_info...\n",
            "Name: John, Age: 25\n"
          ]
        }
      ]
    },
    {
      "cell_type": "markdown",
      "source": [
        "# 📝 Summary Notes:\n",
        "\n",
        "\n",
        "\n",
        "1.  Instance Method----A function defined in a class, using self---def greet (self):\n",
        "2.  self----Refers to the current object calling the method----self.name = name\n",
        "3.  Multiple Methods----A class can have many methods working with the same data -----def add(self):return  self.a + self.b\n",
        "4.  Method Calls----One method can call another using self.method()----self.display()\n",
        "\n",
        "\n",
        "\n"
      ],
      "metadata": {
        "id": "WUUM1vk_iZvE"
      }
    },
    {
      "cell_type": "markdown",
      "source": [
        "# **Practical Coding Task:**\n",
        "# ➢ Scenario:\n",
        "You're building a simple calculator class. This calculator can add, subtract, multiply, and divide two\n",
        "numbers. You’ll use separate methods for each operation, and then a method to display all results\n",
        "together.\n",
        "# ▪ Task Requirements:\n",
        "1. Create a class named Calculator.\n",
        "2. Use _ _init_ _() to take two numbers: num1 and num2.\n",
        "3. Add the following methods:\n",
        "o add()\n",
        "o subtract()\n",
        "o multiply()\n",
        "o divide() (add check: division by zero)\n",
        "4. Add a method show_all() that:\n",
        "o Calls all the above methods\n",
        "o Prints results in this format:\n",
        "5. Create one object with numbers of your choice (e.g., 10 and 2), and call show_all().\n",
        "# ➔ Bonus Twist (Optional but Rewarding):\n",
        "• Create a second object with different values and test again.\n",
        "• Try to take input from the user using input() (optional).\n",
        "# ❖ Bonus Tips:\n",
        "• Use f\"\" formatting for clean output.\n",
        "• Keep your code readable and neat.\n",
        "• Try to write short comments above each method  comments with full"
      ],
      "metadata": {
        "id": "rmOUkZqGkx5N"
      }
    },
    {
      "cell_type": "code",
      "source": [
        "class Calculator:\n",
        "    # Constructor to initialize two numbers\n",
        "    def __init__(self, num1, num2):\n",
        "        self.num1 = num1\n",
        "        self.num2 = num2\n",
        "\n",
        "    # Method to add two numbers\n",
        "    def add(self):\n",
        "        return self.num1 + self.num2\n",
        "\n",
        "    # Method to subtract second number from first\n",
        "    def subtract(self):\n",
        "        return self.num1 - self.num2\n",
        "\n",
        "    # Method to multiply two numbers\n",
        "    def multiply(self):\n",
        "        return self.num1 * self.num2\n",
        "\n",
        "    # Method to divide first number by second\n",
        "    # Includes a check to avoid division by zero\n",
        "    def divide(self):\n",
        "        if self.num2 == 0:\n",
        "            return \"Error: Division by zero\"\n",
        "        return self.num1 / self.num2\n",
        "\n",
        "    # Method to show results of all operations\n",
        "    def show_all(self):\n",
        "        print(f\"Results for numbers: {self.num1} and {self.num2}\")\n",
        "        print(f\"Addition: {self.add()}\")\n",
        "        print(f\"Subtraction: {self.subtract()}\")\n",
        "        print(f\"Multiplication: {self.multiply()}\")\n",
        "        print(f\"Division: {self.divide()}\")\n",
        "        print(\"-\" * 30)\n",
        "\n",
        "# Create one object and show results\n",
        "calc1 = Calculator(10, 2)\n",
        "calc1.show_all()\n",
        "\n",
        "# Bonus: Create second object with different values\n",
        "calc2 = Calculator(15, 0)\n",
        "calc2.show_all()\n",
        "\n",
        "# Bonus: Take user input (Optional)\n",
        "try:\n",
        "    num1 = float(input(\"Enter first number: \"))\n",
        "    num2 = float(input(\"Enter second number: \"))\n",
        "    calc3 = Calculator(num1, num2)\n",
        "    calc3.show_all()\n",
        "except ValueError:\n",
        "    print(\"Invalid input! Please enter numeric values.\")"
      ],
      "metadata": {
        "colab": {
          "base_uri": "https://localhost:8080/"
        },
        "id": "ZayrU0TMlqsd",
        "outputId": "ff932aa9-47f2-4d9a-d992-8491213174f3"
      },
      "execution_count": 5,
      "outputs": [
        {
          "output_type": "stream",
          "name": "stdout",
          "text": [
            "Results for numbers: 10 and 2\n",
            "Addition: 12\n",
            "Subtraction: 8\n",
            "Multiplication: 20\n",
            "Division: 5.0\n",
            "------------------------------\n",
            "Results for numbers: 15 and 0\n",
            "Addition: 15\n",
            "Subtraction: 15\n",
            "Multiplication: 0\n",
            "Division: Error: Division by zero\n",
            "------------------------------\n",
            "Enter first number: 5\n",
            "Enter second number: 6\n",
            "Results for numbers: 5.0 and 6.0\n",
            "Addition: 11.0\n",
            "Subtraction: -1.0\n",
            "Multiplication: 30.0\n",
            "Division: 0.8333333333333334\n",
            "------------------------------\n"
          ]
        }
      ]
    },
    {
      "cell_type": "markdown",
      "source": [
        "# ✅ Features to Add:\n",
        "Interactive Menu using a loop\n",
        "\n",
        "Exit option\n",
        "\n",
        "Ability to enter new numbers\n",
        "\n",
        "Input validation\n",
        "\n",
        "Formatted and clean output"
      ],
      "metadata": {
        "id": "YJDIUKJ4p6_l"
      }
    },
    {
      "cell_type": "code",
      "source": [
        "class Calculator:\n",
        "    def __init__(self, num1, num2):\n",
        "        self.num1 = num1\n",
        "        self.num2 = num2\n",
        "\n",
        "    def add(self):\n",
        "        return self.num1 + self.num2\n",
        "\n",
        "    def subtract(self):\n",
        "        return self.num1 - self.num2\n",
        "\n",
        "    def multiply(self):\n",
        "        return self.num1 * self.num2\n",
        "\n",
        "    def divide(self):\n",
        "        if self.num2 == 0:\n",
        "            return \"Error: Division by zero\"\n",
        "        return self.num1 / self.num2\n",
        "\n",
        "# Function to get a valid number input from the user\n",
        "def get_number(prompt):\n",
        "    while True:\n",
        "        try:\n",
        "            return float(input(prompt))\n",
        "        except ValueError:\n",
        "            print(\"❗ Invalid input. Please enter a numeric value.\")\n",
        "\n",
        "# Main function with new flow: operation first, then input\n",
        "def main():\n",
        "    print(\"🔢 Welcome to the Python Calculator!\")\n",
        "    while True:\n",
        "        print(\"\\n--- MENU ---\")\n",
        "        print(\"1. Addition\")\n",
        "        print(\"2. Subtraction\")\n",
        "        print(\"3. Multiplication\")\n",
        "        print(\"4. Division\")\n",
        "        print(\"5. Exit\")\n",
        "\n",
        "        choice = input(\"Choose an operation (1-5): \")\n",
        "\n",
        "        if choice in ['1', '2', '3', '4']:\n",
        "            num1 = get_number(\"Enter the first number: \")\n",
        "            num2 = get_number(\"Enter the second number: \")\n",
        "            calc = Calculator(num1, num2)\n",
        "\n",
        "            if choice == '1':\n",
        "                result = calc.add()\n",
        "                print(f\"➕ Result: {num1} + {num2} = {result}\")\n",
        "            elif choice == '2':\n",
        "                result = calc.subtract()\n",
        "                print(f\"➖ Result: {num1} - {num2} = {result}\")\n",
        "            elif choice == '3':\n",
        "                result = calc.multiply()\n",
        "                print(f\"✖️ Result: {num1} * {num2} = {result}\")\n",
        "            elif choice == '4':\n",
        "                result = calc.divide()\n",
        "                print(f\"➗ Result: {num1} / {num2} = {result}\")\n",
        "\n",
        "        elif choice == '5':\n",
        "            print(\"👋 Exiting the calculator. Goodbye!\")\n",
        "            break\n",
        "\n",
        "        else:\n",
        "            print(\"❌ Invalid choice. Please select a number between 1 and 5.\")\n",
        "\n",
        "# Run the program\n",
        "main()\n"
      ],
      "metadata": {
        "colab": {
          "base_uri": "https://localhost:8080/"
        },
        "id": "96kRqTakqude",
        "outputId": "cc0f90f9-530e-465c-a050-2c67cc15ebd8"
      },
      "execution_count": 7,
      "outputs": [
        {
          "output_type": "stream",
          "name": "stdout",
          "text": [
            "🔢 Welcome to the Python Calculator!\n",
            "\n",
            "--- MENU ---\n",
            "1. Addition\n",
            "2. Subtraction\n",
            "3. Multiplication\n",
            "4. Division\n",
            "5. Exit\n",
            "Choose an operation (1-5): 1\n",
            "Enter the first number: 5\n",
            "Enter the second number: 6\n",
            "➕ Result: 5.0 + 6.0 = 11.0\n",
            "\n",
            "--- MENU ---\n",
            "1. Addition\n",
            "2. Subtraction\n",
            "3. Multiplication\n",
            "4. Division\n",
            "5. Exit\n",
            "Choose an operation (1-5): 2\n",
            "Enter the first number: 6\n",
            "Enter the second number: 3\n",
            "➖ Result: 6.0 - 3.0 = 3.0\n",
            "\n",
            "--- MENU ---\n",
            "1. Addition\n",
            "2. Subtraction\n",
            "3. Multiplication\n",
            "4. Division\n",
            "5. Exit\n",
            "Choose an operation (1-5): 5\n",
            "👋 Exiting the calculator. Goodbye!\n"
          ]
        }
      ]
    }
  ]
}